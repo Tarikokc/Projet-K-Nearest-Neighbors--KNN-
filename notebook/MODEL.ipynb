{
 "cells": [
  {
   "cell_type": "code",
   "execution_count": 36,
   "metadata": {},
   "outputs": [],
   "source": [
    "# 1. Imports\n",
    "import pandas as pd\n",
    "import numpy as np\n",
    "from sklearn.model_selection import train_test_split\n",
    "from sklearn.ensemble import RandomForestClassifier\n",
    "from sklearn.metrics import accuracy_score, confusion_matrix\n",
    "import seaborn as sns\n",
    "import matplotlib.pyplot as plt"
   ]
  },
  {
   "cell_type": "code",
   "execution_count": 37,
   "metadata": {},
   "outputs": [
    {
     "name": "stdout",
     "output_type": "stream",
     "text": [
      "Aperçu des données :\n"
     ]
    },
    {
     "data": {
      "text/html": [
       "<div>\n",
       "<style scoped>\n",
       "    .dataframe tbody tr th:only-of-type {\n",
       "        vertical-align: middle;\n",
       "    }\n",
       "\n",
       "    .dataframe tbody tr th {\n",
       "        vertical-align: top;\n",
       "    }\n",
       "\n",
       "    .dataframe thead th {\n",
       "        text-align: right;\n",
       "    }\n",
       "</style>\n",
       "<table border=\"1\" class=\"dataframe\">\n",
       "  <thead>\n",
       "    <tr style=\"text-align: right;\">\n",
       "      <th></th>\n",
       "      <th>age</th>\n",
       "      <th>sex</th>\n",
       "      <th>cp</th>\n",
       "      <th>trestbps</th>\n",
       "      <th>chol</th>\n",
       "      <th>fbs</th>\n",
       "      <th>restecg</th>\n",
       "      <th>thalach</th>\n",
       "      <th>exang</th>\n",
       "      <th>oldpeak</th>\n",
       "      <th>slope</th>\n",
       "      <th>ca</th>\n",
       "      <th>thal</th>\n",
       "      <th>target</th>\n",
       "    </tr>\n",
       "  </thead>\n",
       "  <tbody>\n",
       "    <tr>\n",
       "      <th>0</th>\n",
       "      <td>63.0</td>\n",
       "      <td>1.0</td>\n",
       "      <td>1.0</td>\n",
       "      <td>145.0</td>\n",
       "      <td>233.0</td>\n",
       "      <td>1.0</td>\n",
       "      <td>2.0</td>\n",
       "      <td>150.0</td>\n",
       "      <td>0.0</td>\n",
       "      <td>2.3</td>\n",
       "      <td>3.0</td>\n",
       "      <td>0.0</td>\n",
       "      <td>6.0</td>\n",
       "      <td>0</td>\n",
       "    </tr>\n",
       "    <tr>\n",
       "      <th>1</th>\n",
       "      <td>67.0</td>\n",
       "      <td>1.0</td>\n",
       "      <td>4.0</td>\n",
       "      <td>160.0</td>\n",
       "      <td>286.0</td>\n",
       "      <td>0.0</td>\n",
       "      <td>2.0</td>\n",
       "      <td>108.0</td>\n",
       "      <td>1.0</td>\n",
       "      <td>1.5</td>\n",
       "      <td>2.0</td>\n",
       "      <td>3.0</td>\n",
       "      <td>3.0</td>\n",
       "      <td>2</td>\n",
       "    </tr>\n",
       "    <tr>\n",
       "      <th>2</th>\n",
       "      <td>67.0</td>\n",
       "      <td>1.0</td>\n",
       "      <td>4.0</td>\n",
       "      <td>120.0</td>\n",
       "      <td>229.0</td>\n",
       "      <td>0.0</td>\n",
       "      <td>2.0</td>\n",
       "      <td>129.0</td>\n",
       "      <td>1.0</td>\n",
       "      <td>2.6</td>\n",
       "      <td>2.0</td>\n",
       "      <td>2.0</td>\n",
       "      <td>7.0</td>\n",
       "      <td>1</td>\n",
       "    </tr>\n",
       "    <tr>\n",
       "      <th>3</th>\n",
       "      <td>37.0</td>\n",
       "      <td>1.0</td>\n",
       "      <td>3.0</td>\n",
       "      <td>130.0</td>\n",
       "      <td>250.0</td>\n",
       "      <td>0.0</td>\n",
       "      <td>0.0</td>\n",
       "      <td>187.0</td>\n",
       "      <td>0.0</td>\n",
       "      <td>3.5</td>\n",
       "      <td>3.0</td>\n",
       "      <td>0.0</td>\n",
       "      <td>3.0</td>\n",
       "      <td>0</td>\n",
       "    </tr>\n",
       "    <tr>\n",
       "      <th>4</th>\n",
       "      <td>41.0</td>\n",
       "      <td>0.0</td>\n",
       "      <td>2.0</td>\n",
       "      <td>130.0</td>\n",
       "      <td>204.0</td>\n",
       "      <td>0.0</td>\n",
       "      <td>2.0</td>\n",
       "      <td>172.0</td>\n",
       "      <td>0.0</td>\n",
       "      <td>1.4</td>\n",
       "      <td>1.0</td>\n",
       "      <td>0.0</td>\n",
       "      <td>3.0</td>\n",
       "      <td>0</td>\n",
       "    </tr>\n",
       "  </tbody>\n",
       "</table>\n",
       "</div>"
      ],
      "text/plain": [
       "    age  sex   cp  trestbps   chol  fbs  restecg  thalach  exang  oldpeak  \\\n",
       "0  63.0  1.0  1.0     145.0  233.0  1.0      2.0    150.0    0.0      2.3   \n",
       "1  67.0  1.0  4.0     160.0  286.0  0.0      2.0    108.0    1.0      1.5   \n",
       "2  67.0  1.0  4.0     120.0  229.0  0.0      2.0    129.0    1.0      2.6   \n",
       "3  37.0  1.0  3.0     130.0  250.0  0.0      0.0    187.0    0.0      3.5   \n",
       "4  41.0  0.0  2.0     130.0  204.0  0.0      2.0    172.0    0.0      1.4   \n",
       "\n",
       "   slope   ca thal  target  \n",
       "0    3.0  0.0  6.0       0  \n",
       "1    2.0  3.0  3.0       2  \n",
       "2    2.0  2.0  7.0       1  \n",
       "3    3.0  0.0  3.0       0  \n",
       "4    1.0  0.0  3.0       0  "
      ]
     },
     "metadata": {},
     "output_type": "display_data"
    },
    {
     "name": "stdout",
     "output_type": "stream",
     "text": [
      "\n",
      "Taille du dataset : (303, 14)\n"
     ]
    }
   ],
   "source": [
    "# Chargement des données\n",
    "url = \"https://archive.ics.uci.edu/ml/machine-learning-databases/heart-disease/processed.cleveland.data\"\n",
    "columns = ['age', 'sex', 'cp', 'trestbps', 'chol', 'fbs', 'restecg', 'thalach', \n",
    "           'exang', 'oldpeak', 'slope', 'ca', 'thal', 'target']\n",
    "df = pd.read_csv(url, names=columns)\n",
    "\n",
    "# Vérifions que tout est bien chargé\n",
    "print(\"Aperçu des données :\")\n",
    "display(df.head())\n",
    "print(\"\\nTaille du dataset :\", df.shape)"
   ]
  },
  {
   "cell_type": "code",
   "execution_count": 38,
   "metadata": {},
   "outputs": [
    {
     "name": "stdout",
     "output_type": "stream",
     "text": [
      "Taille train : (242, 3)\n",
      "Taille test : (61, 3)\n"
     ]
    }
   ],
   "source": [
    "# Préparation des données\n",
    "X = df[['age', 'cp', 'thalach']]\n",
    "y = df['target']\n",
    "\n",
    "# Split train/test\n",
    "X_train, X_test, y_train, y_test = train_test_split(X, y, test_size=0.2, random_state=42)\n",
    "print(\"Taille train :\", X_train.shape)\n",
    "print(\"Taille test :\", X_test.shape)"
   ]
  },
  {
   "cell_type": "code",
   "execution_count": 39,
   "metadata": {},
   "outputs": [
    {
     "name": "stdout",
     "output_type": "stream",
     "text": [
      "\n",
      "Résultats des modèles :\n",
      "\n",
      "Modèle Simple :\n",
      "Train : 0.624 | Test : 0.541\n",
      "\n",
      "Modèle Moyen :\n",
      "Train : 0.744 | Test : 0.492\n",
      "\n",
      "Modèle Complexe :\n",
      "Train : 0.996 | Test : 0.475\n"
     ]
    }
   ],
   "source": [
    "# 4. Création et test des modèles\n",
    "# Modèle 1 : Simple\n",
    "rf1 = RandomForestClassifier(n_estimators=50, max_depth=3, random_state=42)\n",
    "rf1.fit(X_train, y_train)\n",
    "score1_train = rf1.score(X_train, y_train)\n",
    "score1_test = rf1.score(X_test, y_test)\n",
    "\n",
    "# Modèle 2 : Moyen\n",
    "rf2 = RandomForestClassifier(n_estimators=100, max_depth=5, random_state=42)\n",
    "rf2.fit(X_train, y_train)\n",
    "score2_train = rf2.score(X_train, y_train)\n",
    "score2_test = rf2.score(X_test, y_test)\n",
    "\n",
    "# Modèle 3 : Complexe\n",
    "rf3 = RandomForestClassifier(n_estimators=200, max_depth=10, random_state=42)\n",
    "rf3.fit(X_train, y_train)\n",
    "score3_train = rf3.score(X_train, y_train)\n",
    "score3_test = rf3.score(X_test, y_test)\n",
    "\n",
    "# Affichage des scores\n",
    "print(\"\\nRésultats des modèles :\")\n",
    "print(\"\\nModèle Simple :\")\n",
    "print(f\"Train : {score1_train:.3f} | Test : {score1_test:.3f}\")\n",
    "\n",
    "print(\"\\nModèle Moyen :\")\n",
    "print(f\"Train : {score2_train:.3f} | Test : {score2_test:.3f}\")\n",
    "\n",
    "print(\"\\nModèle Complexe :\")\n",
    "print(f\"Train : {score3_train:.3f} | Test : {score3_test:.3f}\")"
   ]
  },
  {
   "cell_type": "code",
   "execution_count": 40,
   "metadata": {},
   "outputs": [
    {
     "data": {
      "image/png": "[encoded data removed]",
      "text/plain": [
       "<Figure size 1000x600 with 1 Axes>"
      ]
     },
     "metadata": {},
     "output_type": "display_data"
    }
   ],
   "source": [
    "# 5. Visualisation des résultats\n",
    "plt.figure(figsize=(10, 6))\n",
    "modeles = ['Simple', 'Moyen', 'Complexe']\n",
    "scores_train = [score1_train, score2_train, score3_train]\n",
    "scores_test = [score1_test, score2_test, score3_test]\n",
    "\n",
    "plt.plot(modeles, scores_train, 'o-', label='Train', color='blue')\n",
    "plt.plot(modeles, scores_test, 'o-', label='Test', color='red')\n",
    "plt.title('Comparaison des Modèles')\n",
    "plt.ylabel('Score')\n",
    "plt.legend()\n",
    "plt.grid(True)\n",
    "plt.show()"
   ]
  },
  {
   "cell_type": "code",
   "execution_count": 41,
   "metadata": {},
   "outputs": [
    {
     "data": {
      "image/png": "[encoded data removed]",
      "text/plain": [
       "<Figure size 800x600 with 2 Axes>"
      ]
     },
     "metadata": {},
     "output_type": "display_data"
    },
    {
     "name": "stdout",
     "output_type": "stream",
     "text": [
      "\n",
      "--- Résultats du modèle ---\n",
      "\n",
      "📊 Détails par classe :\n",
      "              precision    recall  f1-score   support\n",
      "\n",
      "           0       0.64      0.93      0.76        29\n",
      "           1       0.18      0.17      0.17        12\n",
      "           2       0.00      0.00      0.00         9\n",
      "           3       0.33      0.14      0.20         7\n",
      "           4       0.00      0.00      0.00         4\n",
      "\n",
      "    accuracy                           0.49        61\n",
      "   macro avg       0.23      0.25      0.23        61\n",
      "weighted avg       0.38      0.49      0.42        61\n",
      "\n"
     ]
    },
    {
     "name": "stderr",
     "output_type": "stream",
     "text": [
      "C:\\Users\\Tarik\\AppData\\Local\\Packages\\PythonSoftwareFoundation.Python.3.10_qbz5n2kfra8p0\\LocalCache\\local-packages\\Python310\\site-packages\\sklearn\\metrics\\_classification.py:1531: UndefinedMetricWarning: Precision is ill-defined and being set to 0.0 in labels with no predicted samples. Use `zero_division` parameter to control this behavior.\n",
      "  _warn_prf(average, modifier, f\"{metric.capitalize()} is\", len(result))\n",
      "C:\\Users\\Tarik\\AppData\\Local\\Packages\\PythonSoftwareFoundation.Python.3.10_qbz5n2kfra8p0\\LocalCache\\local-packages\\Python310\\site-packages\\sklearn\\metrics\\_classification.py:1531: UndefinedMetricWarning: Precision is ill-defined and being set to 0.0 in labels with no predicted samples. Use `zero_division` parameter to control this behavior.\n",
      "  _warn_prf(average, modifier, f\"{metric.capitalize()} is\", len(result))\n",
      "C:\\Users\\Tarik\\AppData\\Local\\Packages\\PythonSoftwareFoundation.Python.3.10_qbz5n2kfra8p0\\LocalCache\\local-packages\\Python310\\site-packages\\sklearn\\metrics\\_classification.py:1531: UndefinedMetricWarning: Precision is ill-defined and being set to 0.0 in labels with no predicted samples. Use `zero_division` parameter to control this behavior.\n",
      "  _warn_prf(average, modifier, f\"{metric.capitalize()} is\", len(result))\n"
     ]
    }
   ],
   "source": [
    "# Imports\n",
    "from sklearn.metrics import confusion_matrix, classification_report, accuracy_score\n",
    "\n",
    "# On fait les prédictions avec notre meilleur modèle\n",
    "y_pred = rf2.predict(X_test)\n",
    "\n",
    "# 1. Matrice de confusion\n",
    "plt.figure(figsize=(8, 6))\n",
    "confusion = confusion_matrix(y_test, y_pred)\n",
    "sns.heatmap(confusion, annot=True, fmt='d', cmap='Blues')\n",
    "plt.title('Matrice de Confusion')\n",
    "plt.ylabel('Réel')\n",
    "plt.xlabel('Prédit')\n",
    "plt.show()\n",
    "\n",
    "print(\"\\n--- Résultats du modèle ---\")\n",
    "\n",
    "# 3. Rapport simplifié\n",
    "print(\"\\n📊 Détails par classe :\")\n",
    "rapport = classification_report(y_test, y_pred)\n",
    "print(rapport)"
   ]
  },
  {
   "cell_type": "markdown",
   "metadata": {},
   "source": [
    "# Analyse des Résultats du Modèle\n",
    "\n",
    "## Score Global\n",
    "- Accuracy = 0.49 (49%)\n",
    "- Signification : Le modèle a raison dans 49% des cas\n",
    "- C'est assez faible (on préfère > 70%)\n",
    "\n",
    "## Analyse par Classe (0 à 4)\n",
    "\n",
    "### Classe 0 (Pas de maladie)\n",
    "- Precision : 0.64 (64% des prédictions \"classe 0\" sont correctes)\n",
    "- Recall : 0.93 (93% des vrais \"classe 0\" sont trouvés)\n",
    "- Support : 29 patients\n",
    "- Meilleurs résultats sur cette classe\n",
    "\n",
    "### Classe 1\n",
    "- Precision : 0.18 (18% des prédictions sont correctes)\n",
    "- Recall : 0.17 (17% des vrais cas sont trouvés)\n",
    "- Support : 12 patients\n",
    "- Résultats faibles\n",
    "\n",
    "### Classes 2, 3, 4\n",
    "- Precision et Recall proches de 0\n",
    "- Support : 9, 7 et 4 patients\n",
    "- Le modèle échoue sur ces classes\n",
    "\n"
   ]
  },
  {
   "cell_type": "markdown",
   "metadata": {},
   "source": []
  }
 ],
 "metadata": {
  "kernelspec": {
   "display_name": "Python 3",
   "language": "python",
   "name": "python3"
  },
  "language_info": {
   "codemirror_mode": {
    "name": "ipython",
    "version": 3
   },
   "file_extension": ".py",
   "mimetype": "text/x-python",
   "name": "python",
   "nbconvert_exporter": "python",
   "pygments_lexer": "ipython3",
   "version": "3.10.11"
  }
 },
 "nbformat": 4,
 "nbformat_minor": 2
}
